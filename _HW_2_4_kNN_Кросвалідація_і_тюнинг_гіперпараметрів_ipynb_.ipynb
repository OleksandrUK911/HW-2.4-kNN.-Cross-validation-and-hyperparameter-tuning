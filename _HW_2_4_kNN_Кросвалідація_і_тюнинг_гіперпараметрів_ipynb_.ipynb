{
  "nbformat": 4,
  "nbformat_minor": 0,
  "metadata": {
    "colab": {
      "provenance": []
    },
    "kernelspec": {
      "name": "python3",
      "display_name": "Python 3"
    },
    "language_info": {
      "name": "python"
    }
  },
  "cells": [
    {
      "cell_type": "markdown",
      "source": [
        "В цьому домашньому завданні ми знову працюємо з даними з нашого змагання [\"Bank Customer Churn Prediction (DLU Course)\"](https://www.kaggle.com/t/7c080c5d8ec64364a93cf4e8f880b6a0).\n",
        "\n",
        "Тут ми побудуємо рішення задачі класифікації з використанням kNearestNeighboors, знайдемо оптимальні гіперпараметри для цього методу і зробимо базові ансамблі. Це дасть змогу порівняти перформанс моделі з попередніми вивченими методами."
      ],
      "metadata": {
        "id": "fDefDHQt8LXC"
      }
    },
    {
      "cell_type": "markdown",
      "source": [
        "0. Зчитайте дані `train.csv` та зробіть препроцесинг використовуючи написаний Вами скрипт `process_bank_churn.py` так, аби в результаті отримати дані в розбитті X_train, train_targets, X_val, val_targets для експериментів.\n",
        "\n",
        "  Якщо Вам не вдалось реалізувати в завданні `2.3. Дерева прийняття рішень` скрипт `process_bank_churn.py` - можна скористатись готовим скриптом з запропонованого рішення того завдання."
      ],
      "metadata": {
        "id": "LhivzW9W8-Dz"
      }
    },
    {
      "cell_type": "code",
      "source": [
        "# Імпортуємо бібліотеки\n",
        "import pandas as pd\n",
        "from sklearn.neighbors import KNeighborsClassifier\n",
        "from sklearn.model_selection import train_test_split, GridSearchCV\n",
        "from sklearn.preprocessing import StandardScaler, OneHotEncoder\n",
        "from sklearn.metrics import accuracy_score\n",
        "from sklearn.compose import ColumnTransformer\n",
        "from sklearn.pipeline import Pipeline\n",
        "from sklearn.ensemble import VotingClassifier\n",
        "from sklearn.linear_model import LogisticRegression\n",
        "from sklearn.tree import DecisionTreeClassifier\n",
        "\n",
        "# Зчитуємо CSV-файл\n",
        "df = pd.read_csv('/content/train.csv')\n",
        "\n",
        "# Функція для препроцесингу\n",
        "def preprocess_data(df, target_column=\"Exited\", val_size=0.2, random_state=42):\n",
        "    df = df.copy()\n",
        "\n",
        "    # Видаляємо зайві колонки, якщо вони є\n",
        "    drop_cols = ['RowNumber', 'CustomerId', 'Surname']\n",
        "    drop_cols = [col for col in drop_cols if col in df.columns]\n",
        "    df.drop(columns=drop_cols, inplace=True)\n",
        "\n",
        "    # Розділяємо features та ціль\n",
        "    X = df.drop(columns=[target_column])\n",
        "    y = df[target_column]\n",
        "\n",
        "    # Числові та категоріальні ознаки\n",
        "    num_features = X.select_dtypes(include='number').columns.tolist()\n",
        "    cat_features = X.select_dtypes(include='object').columns.tolist()\n",
        "\n",
        "    # Побудова трансформера\n",
        "    numeric_transformer = StandardScaler()\n",
        "    categorical_transformer = OneHotEncoder(handle_unknown='ignore')\n",
        "\n",
        "    preprocessor = ColumnTransformer(\n",
        "        transformers=[\n",
        "            ('num', numeric_transformer, num_features),\n",
        "            ('cat', categorical_transformer, cat_features)\n",
        "        ],\n",
        "        remainder='passthrough' # Додано remainder='passthrough' для збереження інших колонок, якщо є\n",
        "    )\n",
        "\n",
        "    # Розділення на train і validation\n",
        "    X_train, X_val, y_train, y_val = train_test_split(X, y, test_size=val_size, random_state=random_state, stratify=y)\n",
        "\n",
        "    # Навчання трансформера на тренувальних даних\n",
        "    preprocessor.fit(X_train)\n",
        "\n",
        "    # Трансформація\n",
        "    X_train_processed = preprocessor.transform(X_train)\n",
        "    X_val_processed = preprocessor.transform(X_val)\n",
        "\n",
        "    # Повертаємо також препроцесор, числові та категоріальні ознаки\n",
        "    return X_train_processed, y_train, X_val_processed, y_val, preprocessor, num_features, cat_features\n",
        "\n",
        "# Препроцесинг\n",
        "X_train, y_train, X_val, y_val, preprocessor, num_features, cat_features = preprocess_data(df)\n",
        "\n",
        "# Модель KNN\n",
        "knn = KNeighborsClassifier(n_neighbors=5)\n",
        "knn.fit(X_train, y_train)\n",
        "y_pred = knn.predict(X_val)\n",
        "print(\"🔹 KNN Accuracy:\", accuracy_score(y_val, y_pred))\n",
        "\n",
        "# Підбір гіперпараметрів\n",
        "param_grid = {\n",
        "    'n_neighbors': list(range(1, 21)),\n",
        "    'weights': ['uniform', 'distance'],\n",
        "    'metric': ['euclidean', 'manhattan']\n",
        "}\n",
        "grid = GridSearchCV(KNeighborsClassifier(), param_grid, cv=5, scoring='accuracy', n_jobs=-1)\n",
        "grid.fit(X_train, y_train)\n",
        "best_model = grid.best_estimator_\n",
        "val_preds = best_model.predict(X_val)\n",
        "print(\"✅ Best KNN params:\", grid.best_params_)\n",
        "print(\"✅ Best KNN validation accuracy:\", accuracy_score(y_val, val_preds))\n",
        "\n",
        "# Ансамбль\n",
        "ensemble = VotingClassifier(\n",
        "    estimators=[\n",
        "        ('knn', best_model),\n",
        "        ('tree', DecisionTreeClassifier(max_depth=5, random_state=42)),\n",
        "        ('logreg', LogisticRegression(max_iter=1000, random_state=42))\n",
        "    ],\n",
        "    voting='soft'\n",
        ")\n",
        "ensemble.fit(X_train, y_train)\n",
        "ensemble_preds = ensemble.predict(X_val)\n",
        "print(\"🌟 Ensemble accuracy:\", accuracy_score(y_val, ensemble_preds))"
      ],
      "metadata": {
        "id": "Z-mntPMAH-rv",
        "colab": {
          "base_uri": "https://localhost:8080/"
        },
        "outputId": "181ffe3f-6db0-4f6d-fc5e-d07da4b6d5ef"
      },
      "execution_count": 13,
      "outputs": [
        {
          "output_type": "stream",
          "name": "stdout",
          "text": [
            "🔹 KNN Accuracy: 0.872\n",
            "✅ Best KNN params: {'metric': 'euclidean', 'n_neighbors': 11, 'weights': 'uniform'}\n",
            "✅ Best KNN validation accuracy: 0.8776666666666667\n",
            "🌟 Ensemble accuracy: 0.887\n"
          ]
        }
      ]
    },
    {
      "cell_type": "markdown",
      "source": [
        "1. Навчіть на цих даних класифікатор kNN з параметрами за замовченням і виміряйте точність з допомогою AUROC на тренувальному та валідаційному наборах. Зробіть заключення про отриману модель: вона хороша/погана, чи є high bias/high variance?"
      ],
      "metadata": {
        "id": "_LxWkv4o-wMe"
      }
    },
    {
      "cell_type": "markdown",
      "source": [
        "🔬 Завдання: AUROC для kNN (параметри за замовченням)\n",
        "✅ Пояснення:\n",
        "AUROC — це площа під кривою ROC.\n",
        "\n",
        "Вона вимірює здатність моделі відрізняти позитивний клас (Exited = 1) від негативного (Exited = 0).\n",
        "\n",
        "Значення:\n",
        "\n",
        "0.5 — випадкове вгадування\n",
        "\n",
        "1.0 — ідеальна модель\n",
        "\n",
        "0.8+ — вже добре"
      ],
      "metadata": {
        "id": "sfCClBhyP3Xa"
      }
    },
    {
      "cell_type": "code",
      "source": [
        "from sklearn.metrics import roc_auc_score\n",
        "\n",
        "# kNN з параметрами за замовченням\n",
        "knn_default = KNeighborsClassifier()\n",
        "knn_default.fit(X_train, y_train)\n",
        "\n",
        "# Прогнози ймовірностей\n",
        "train_probs = knn_default.predict_proba(X_train)[:, 1]\n",
        "val_probs = knn_default.predict_proba(X_val)[:, 1]\n",
        "\n",
        "# Обчислення AUROC\n",
        "train_auc = roc_auc_score(y_train, train_probs)\n",
        "val_auc = roc_auc_score(y_val, val_probs)\n",
        "\n",
        "print(f\"🔵 AUROC на тренувальному наборі: {train_auc:.4f}\")\n",
        "print(f\"🟠 AUROC на валідаційному наборі: {val_auc:.4f}\")"
      ],
      "metadata": {
        "id": "1TH7H_Z9IAHD",
        "colab": {
          "base_uri": "https://localhost:8080/"
        },
        "outputId": "4f365b9f-6585-4756-c2df-c8f7b5e8c9d6"
      },
      "execution_count": 3,
      "outputs": [
        {
          "output_type": "stream",
          "name": "stdout",
          "text": [
            "🔵 AUROC на тренувальному наборі: 0.9598\n",
            "🟠 AUROC на валідаційному наборі: 0.8677\n"
          ]
        }
      ]
    },
    {
      "cell_type": "markdown",
      "source": [
        "🧪 Код для обчислення AUROC:"
      ],
      "metadata": {
        "id": "hNKo1idbP59c"
      }
    },
    {
      "cell_type": "code",
      "source": [
        "from sklearn.metrics import roc_auc_score\n",
        "\n",
        "# kNN з параметрами за замовченням\n",
        "knn_default = KNeighborsClassifier()\n",
        "knn_default.fit(X_train, y_train)\n",
        "\n",
        "# Прогнози ймовірностей\n",
        "train_probs = knn_default.predict_proba(X_train)[:, 1]\n",
        "val_probs = knn_default.predict_proba(X_val)[:, 1]\n",
        "\n",
        "# Обчислення AUROC\n",
        "train_auc = roc_auc_score(y_train, train_probs)\n",
        "val_auc = roc_auc_score(y_val, val_probs)\n",
        "\n",
        "print(f\"🔵 AUROC на тренувальному наборі: {train_auc:.4f}\")\n",
        "print(f\"🟠 AUROC на валідаційному наборі: {val_auc:.4f}\")"
      ],
      "metadata": {
        "colab": {
          "base_uri": "https://localhost:8080/"
        },
        "id": "hOcivWqIP8fs",
        "outputId": "78d4b3dc-ea2d-484f-a220-2a32f2a1cbb1"
      },
      "execution_count": 4,
      "outputs": [
        {
          "output_type": "stream",
          "name": "stdout",
          "text": [
            "🔵 AUROC на тренувальному наборі: 0.9598\n",
            "🟠 AUROC на валідаційному наборі: 0.8677\n"
          ]
        }
      ]
    },
    {
      "cell_type": "markdown",
      "source": [
        "📊 Як інтерпретувати результат\n",
        "Після виконання коду, дивись:\n",
        "\n",
        "Показник\tЗначення\tІнтерпретація\n",
        "AUROC (train)\tвисоке (>0.9)?\tМодель може бути overfitted (high variance)\n",
        "AUROC (val)\tнизьке (<0.7)?\tМодель underfits (high bias)\n",
        "Обидва приблизно рівні, 0.8–0.9\t👍\tХороший баланс\n",
        "\n",
        "🧠 Висновок (залежно від результату):\n",
        "Після запуску коду, ти можеш використати один з таких шаблонів:\n",
        "\n",
        "🔹 Якщо train ≈ val ≈ 0.87–0.90:\n",
        "Модель показує хороші результати як на тренувальному, так і на валідаційному наборі. Це означає, що вона не має значного перенавчання чи недонавчання. Можна сказати, що модель збалансована, має прийнятну здатність до узагальнення.\n",
        "\n",
        "🔸 Якщо train дуже високий (0.95+), а val набагато нижчий (0.75-):\n",
        "Модель демонструє високу точність на тренуванні, але гірші результати на валідації. Це вказує на перенавчання (high variance). Потрібно зменшити складність моделі або використати регуляризацію/ансамблювання.\n",
        "\n",
        "🔻 Якщо обидва AUROC < 0.7:\n",
        "Модель має низьку здатність до відокремлення класів. Це вказує на high bias — вона недостатньо потужна, щоб вловити закономірності. Можна спробувати інші моделі або інженерію ознак."
      ],
      "metadata": {
        "id": "J-FTRscoQC56"
      }
    },
    {
      "cell_type": "markdown",
      "source": [
        "2. Використовуючи `GridSearchCV` знайдіть оптимальне значення параметра `n_neighbors` для класифікатора `kNN`. Псотавте крос валідацію на 5 фолдів.\n",
        "\n",
        "  Після успішного завершення пошуку оптимального гіперпараметра\n",
        "    - виведіть найкраще значення параметра\n",
        "    - збережіть в окрему змінну `knn_best` найкращу модель, знайдену з `GridSearchCV`\n",
        "    - оцініть якість передбачень  `knn_best` на тренувальній і валідаційній вибірці з допомогою AUROC.\n",
        "    - зробіть висновок про якість моделі. Чи стала вона краще порівняно з попереднім пукнтом (2) цього завдання? Чи є вона краще за дерево прийняття рішень з попереднього ДЗ?"
      ],
      "metadata": {
        "id": "U4hm5qYs_f7x"
      }
    },
    {
      "cell_type": "code",
      "source": [
        "from sklearn.model_selection import GridSearchCV\n",
        "from sklearn.neighbors import KNeighborsClassifier\n",
        "from sklearn.metrics import roc_auc_score\n",
        "\n",
        "# Визначення сітки параметрів для GridSearchCV\n",
        "param_grid_knn = {'n_neighbors': list(range(1, 21))}\n",
        "\n",
        "# Ініціалізація GridSearchCV\n",
        "grid_search_knn = GridSearchCV(KNeighborsClassifier(), param_grid_knn, cv=5, scoring='roc_auc', n_jobs=-1)\n",
        "\n",
        "# Проведення пошуку по сітці\n",
        "grid_search_knn.fit(X_train, y_train)\n",
        "\n",
        "# Виведення найкращого значення параметра\n",
        "print(\"✅ Найкраще значення n_neighbors:\", grid_search_knn.best_params_['n_neighbors'])\n",
        "\n",
        "# Збереження найкращої моделі\n",
        "knn_best = grid_search_knn.best_estimator_\n",
        "\n",
        "# Оцінка якості передбачень knn_best на тренувальній і валідаційній вибірках за допомогою AUROC\n",
        "train_probs_best_knn = knn_best.predict_proba(X_train)[:, 1]\n",
        "val_probs_best_knn = knn_best.predict_proba(X_val)[:, 1]\n",
        "\n",
        "train_auc_best_knn = roc_auc_score(y_train, train_probs_best_knn)\n",
        "val_auc_best_knn = roc_auc_score(y_val, val_probs_best_knn)\n",
        "\n",
        "print(f\"🔵 AUROC на тренувальному наборі (knn_best): {train_auc_best_knn:.4f}\")\n",
        "print(f\"🟠 AUROC на валідаційному наборі (knn_best): {val_auc_best_knn:.4f}\")\n",
        "\n",
        "# Висновок про якість моделі\n",
        "print(\"\\n📊 Висновок:\")\n",
        "if val_auc_best_knn > val_auc: # Comparing with the previous default KNN AUROC\n",
        "    print(\"Модель kNN з оптимальним n_neighbors показала кращий результат на валідаційному наборі порівняно з моделлю з параметрами за замовчуванням.\")\n",
        "elif val_auc_best_knn == val_auc:\n",
        "     print(\"Модель kNN з оптимальним n_neighbors показала такий же результат на валідаційному наборі порівняно з моделлю з параметрами за замовчуванням.\")\n",
        "else:\n",
        "    print(\"Модель kNN з оптимальним n_neighbors показала гірший результат на валідаційному наборі порівняно з моделлю з параметрами за замовчуванням.\")\n",
        "\n",
        "# Note: To compare with the Decision Tree from the previous task, we would need its AUROC score from that task.\n",
        "# Assuming we don't have that readily available in this context, we can only compare the current KNN models."
      ],
      "metadata": {
        "id": "a50AtDZ9IDNx",
        "colab": {
          "base_uri": "https://localhost:8080/"
        },
        "outputId": "f5768ea9-959a-44e8-d375-1e3a803218ec"
      },
      "execution_count": 5,
      "outputs": [
        {
          "output_type": "stream",
          "name": "stdout",
          "text": [
            "✅ Найкраще значення n_neighbors: 20\n",
            "🔵 AUROC на тренувальному наборі (knn_best): 0.9358\n",
            "🟠 AUROC на валідаційному наборі (knn_best): 0.9102\n",
            "\n",
            "📊 Висновок:\n",
            "Модель kNN з оптимальним n_neighbors показала кращий результат на валідаційному наборі порівняно з моделлю з параметрами за замовчуванням.\n"
          ]
        }
      ]
    },
    {
      "cell_type": "markdown",
      "source": [
        "3. Виконайте пошук оптимальних гіперпараметрів для `DecisionTreeClassifier` з `GridSearchCV` за сіткою параметрів\n",
        "  - `max_depth` від 1 до 20 з кроком 2\n",
        "  - `max_leaf_nodes` від 2 до 10 з кроком 1\n",
        "\n",
        "  Обовʼязково при цьому ініціюйте модель з фіксацією `random_state`.\n",
        "\n",
        "  Поставте кросвалідацію на 3 фолди, `scoring='roc_auc'`, та виміряйте, скільки часу потребує пошук оптимальних гіперпараметрів.\n",
        "\n",
        "  Після успішного завершення пошуку оптимальних гіперпараметрів\n",
        "    - виведіть найкращі значення параметра\n",
        "    - збережіть в окрему змінну `dt_best` найкращу модель, знайдену з `GridSearchCV`\n",
        "    - оцініть якість передбачень  `dt_best` на тренувальній і валідаційній вибірці з допомогою AUROC.\n",
        "    - зробіть висновок про якість моделі. Чи ця модель краща за ту, що ви знайшли вручну?"
      ],
      "metadata": {
        "id": "Vg77SVWrBBmU"
      }
    },
    {
      "cell_type": "code",
      "source": [
        "import time\n",
        "from sklearn.tree import DecisionTreeClassifier\n",
        "from sklearn.model_selection import GridSearchCV\n",
        "from sklearn.metrics import roc_auc_score\n",
        "\n",
        "# Визначення сітки параметрів для GridSearchCV\n",
        "param_grid_dt = {\n",
        "    'max_depth': list(range(1, 21, 2)),\n",
        "    'max_leaf_nodes': list(range(2, 11, 1))\n",
        "}\n",
        "\n",
        "# Ініціалізація DecisionTreeClassifier з фіксацією random_state\n",
        "dt = DecisionTreeClassifier(random_state=42)\n",
        "\n",
        "# Ініціалізація GridSearchCV\n",
        "grid_search_dt = GridSearchCV(dt, param_grid_dt, cv=3, scoring='roc_auc', n_jobs=-1)\n",
        "\n",
        "# Вимірювання часу пошуку\n",
        "start_time = time.time()\n",
        "grid_search_dt.fit(X_train, y_train)\n",
        "end_time = time.time()\n",
        "\n",
        "# Виведення найкращих значень параметрів\n",
        "print(\"✅ Найкращі значення гіперпараметрів для DecisionTreeClassifier (GridSearchCV):\", grid_search_dt.best_params_)\n",
        "\n",
        "# Збереження найкращої моделі\n",
        "dt_best = grid_search_dt.best_estimator_\n",
        "\n",
        "# Оцінка якості передбачень dt_best на тренувальній і валідаційній вибірках за допомогою AUROC\n",
        "train_probs_best_dt = dt_best.predict_proba(X_train)[:, 1]\n",
        "val_probs_best_dt = dt_best.predict_proba(X_val)[:, 1]\n",
        "\n",
        "train_auc_best_dt = roc_auc_score(y_train, train_probs_best_dt)\n",
        "val_auc_best_dt = roc_auc_score(y_val, val_probs_best_dt)\n",
        "\n",
        "print(f\"🔵 AUROC на тренувальному наборі (dt_best): {train_auc_best_dt:.4f}\")\n",
        "print(f\"🟠 AUROC на валідаційному наборі (dt_best): {val_auc_best_dt:.4f}\")\n",
        "\n",
        "print(f\"⏱ Час, витрачений на пошук гіперпараметрів: {end_time - start_time:.2f} секунд\")\n",
        "\n",
        "# Висновок про якість моделі\n",
        "print(\"\\n📊 Висновок:\")\n",
        "# For comparison with a manually found Decision Tree, we would need its AUROC score.\n",
        "# Assuming we don't have that explicitly stated in the current context, we compare with the previous best KNN.\n",
        "# To compare with a manual DT, you would need to add that manual DT's AUROC here.\n",
        "print(f\"Модель Decision Tree з оптимальними гіперпараметрами (GridSearchCV) має AUROC на валідаційному наборі: {val_auc_best_dt:.4f}.\")\n",
        "# You can add a comparison with the best KNN here if desired, e.g.:\n",
        "# if val_auc_best_dt > val_auc_best_knn:\n",
        "#    print(f\"Ця модель Decision Tree краща за найкращу модель kNN (AUROC на валідації {val_auc_best_knn:.4f}).\")\n",
        "# elif val_auc_best_dt < val_auc_best_knn:\n",
        "#    print(f\"Ця модель Decision Tree гірша за найкращу модель kNN (AUROC на валідації {val_auc_best_knn:.4f}).\")\n",
        "# else:\n",
        "#    print(f\"Ця модель Decision Tree має схожу якість з найкращою моделлю kNN (AUROC на валідації {val_auc_best_knn:.4f}).\")"
      ],
      "metadata": {
        "id": "RVg6jX-7IEwl",
        "colab": {
          "base_uri": "https://localhost:8080/"
        },
        "outputId": "49beec2f-969b-4b15-949d-20b54e77a4a6"
      },
      "execution_count": 6,
      "outputs": [
        {
          "output_type": "stream",
          "name": "stdout",
          "text": [
            "✅ Найкращі значення гіперпараметрів для DecisionTreeClassifier (GridSearchCV): {'max_depth': 5, 'max_leaf_nodes': 10}\n",
            "🔵 AUROC на тренувальному наборі (dt_best): 0.9015\n",
            "🟠 AUROC на валідаційному наборі (dt_best): 0.9002\n",
            "⏱ Час, витрачений на пошук гіперпараметрів: 4.55 секунд\n",
            "\n",
            "📊 Висновок:\n",
            "Модель Decision Tree з оптимальними гіперпараметрами (GridSearchCV) має AUROC на валідаційному наборі: 0.9002.\n"
          ]
        }
      ]
    },
    {
      "cell_type": "markdown",
      "source": [
        "4. Виконайте пошук оптимальних гіперпараметрів для `DecisionTreeClassifier` з `RandomizedSearchCV` за заданою сіткою параметрів і кількість ітерацій 40.\n",
        "\n",
        "  Поставте кросвалідацію на 3 фолди, `scoring='roc_auc'`, зафіксуйте `random_seed` процедури крос валідації та виміряйте, скільки часу потребує пошук оптимальних гіперпараметрів.\n",
        "\n",
        "  Після успішного завершення пошуку оптимальних гіперпараметрів\n",
        "    - виведіть найкращі значення параметра\n",
        "    - збережіть в окрему змінну `dt_random_search_best` найкращу модель, знайдену з `RandomizedSearchCV`\n",
        "    - оцініть якість передбачень  `dt_random_search_best` на тренувальній і валідаційній вибірці з допомогою AUROC.\n",
        "    - зробіть висновок про якість моделі. Чи ця модель краща за ту, що ви знайшли з `GridSearch`?\n",
        "    - проаналізуйте параметри `dt_random_search_best` і порівняйте з параметрами `dt_best` - яку бачите відмінність? Ця вправа потрібна аби зрозуміти, як різні налаштування `DecisionTreeClassifier` впливають на якість моделі."
      ],
      "metadata": {
        "id": "nCnkGD_sEW1i"
      }
    },
    {
      "cell_type": "code",
      "source": [
        "import time\n",
        "import numpy as np\n",
        "from sklearn.tree import DecisionTreeClassifier\n",
        "from sklearn.model_selection import RandomizedSearchCV\n",
        "from sklearn.metrics import roc_auc_score\n",
        "\n",
        "# Визначення сітки параметрів для RandomizedSearchCV\n",
        "params_dt_random = {\n",
        "    'criterion': ['gini', 'entropy'],\n",
        "    'splitter': ['best', 'random'],\n",
        "    'max_depth': np.arange(1, 20),\n",
        "    'max_leaf_nodes': np.arange(2, 20),\n",
        "    'min_samples_split': [2, 5, 10, 20],\n",
        "    'min_samples_leaf': [1, 2, 4, 8],\n",
        "    'max_features': [None, 'sqrt', 'log2']\n",
        "}\n",
        "\n",
        "# Ініціалізація DecisionTreeClassifier з фіксацією random_state\n",
        "dt_random = DecisionTreeClassifier(random_state=42)\n",
        "\n",
        "# Ініціалізація RandomizedSearchCV\n",
        "random_search_dt = RandomizedSearchCV(dt_random, params_dt_random, n_iter=40, cv=3, scoring='roc_auc', random_state=42, n_jobs=-1)\n",
        "\n",
        "# Вимірювання часу пошуку\n",
        "start_time_random = time.time()\n",
        "random_search_dt.fit(X_train, y_train)\n",
        "end_time_random = time.time()\n",
        "\n",
        "# Виведення найкращих значень параметрів\n",
        "print(\"✅ Найкращі значення гіперпараметрів для DecisionTreeClassifier (RandomizedSearchCV):\", random_search_dt.best_params_)\n",
        "\n",
        "# Збереження найкращої моделі\n",
        "dt_random_search_best = random_search_dt.best_estimator_\n",
        "\n",
        "# Оцінка якості передбачень dt_random_search_best на тренувальній і валідаційній вибірках за допомогою AUROC\n",
        "train_probs_best_dt_random = dt_random_search_best.predict_proba(X_train)[:, 1]\n",
        "val_probs_best_dt_random = dt_random_search_best.predict_proba(X_val)[:, 1]\n",
        "\n",
        "train_auc_best_dt_random = roc_auc_score(y_train, train_probs_best_dt_random)\n",
        "val_auc_best_dt_random = roc_auc_score(y_val, val_probs_best_dt_random)\n",
        "\n",
        "print(f\"🔵 AUROC на тренувальному наборі (dt_random_search_best): {train_auc_best_dt_random:.4f}\")\n",
        "print(f\"🟠 AUROC на валідаційному наборі (dt_random_search_best): {val_auc_best_dt_random:.4f}\")\n",
        "\n",
        "print(f\"⏱ Час, витрачений на пошук гіперпараметрів (RandomizedSearchCV): {end_time_random - start_time_random:.2f} секунд\")\n",
        "\n",
        "# Висновок про якість моделі та порівняння з GridSearch\n",
        "print(\"\\n📊 Висновок:\")\n",
        "print(f\"Модель Decision Tree з оптимальними гіперпараметрами (RandomizedSearchCV) має AUROC на валідаційному наборі: {val_auc_best_dt_random:.4f}.\")\n",
        "\n",
        "# Порівняння з GridSearch\n",
        "if val_auc_best_dt_random > val_auc_best_dt:\n",
        "    print(f\"Ця модель Decision Tree, знайдена за допомогою RandomizedSearchCV, краща за модель, знайдену за допомогою GridSearchCV (AUROC на валідації {val_auc_best_dt:.4f}).\")\n",
        "elif val_auc_best_dt_random < val_auc_best_dt:\n",
        "     print(f\"Ця модель Decision Tree, знайдена за допомогою RandomizedSearchCV, гірша за модель, знайдену за допомогою GridSearchCV (AUROC на валідації {val_auc_best_dt:.4f}).\")\n",
        "else:\n",
        "    print(f\"Ця модель Decision Tree, знайдена за допомогою RandomizedSearchCV, має схожу якість з моделлю, знайденою за допомогою GridSearchCV (AUROC на валідації {val_auc_best_dt:.4f}).\")\n",
        "\n",
        "print(\"\\n🔍 Аналіз параметрів:\")\n",
        "print(\"Параметри dt_random_search_best:\", dt_random_search_best.get_params())\n",
        "print(\"Параметри dt_best (з GridSearch):\", dt_best.get_params())\n",
        "print(\"\\nВідмінності в параметрах можуть вказувати на те, як RandomizedSearchCV досліджував простір параметрів і які комбінації він вважав оптимальними в межах заданої кількості ітерацій порівняно з вичерпним пошуком GridSearchCV.\")"
      ],
      "metadata": {
        "id": "665uQ3NdIG0s",
        "colab": {
          "base_uri": "https://localhost:8080/"
        },
        "outputId": "999c9dc0-308f-4abd-ec67-6357e8c4bcf4"
      },
      "execution_count": 7,
      "outputs": [
        {
          "output_type": "stream",
          "name": "stdout",
          "text": [
            "✅ Найкращі значення гіперпараметрів для DecisionTreeClassifier (RandomizedSearchCV): {'splitter': 'best', 'min_samples_split': 20, 'min_samples_leaf': 2, 'max_leaf_nodes': np.int64(14), 'max_features': None, 'max_depth': np.int64(16), 'criterion': 'entropy'}\n",
            "🔵 AUROC на тренувальному наборі (dt_random_search_best): 0.9169\n",
            "🟠 AUROC на валідаційному наборі (dt_random_search_best): 0.9166\n",
            "⏱ Час, витрачений на пошук гіперпараметрів (RandomizedSearchCV): 1.24 секунд\n",
            "\n",
            "📊 Висновок:\n",
            "Модель Decision Tree з оптимальними гіперпараметрами (RandomizedSearchCV) має AUROC на валідаційному наборі: 0.9166.\n",
            "Ця модель Decision Tree, знайдена за допомогою RandomizedSearchCV, краща за модель, знайдену за допомогою GridSearchCV (AUROC на валідації 0.9002).\n",
            "\n",
            "🔍 Аналіз параметрів:\n",
            "Параметри dt_random_search_best: {'ccp_alpha': 0.0, 'class_weight': None, 'criterion': 'entropy', 'max_depth': np.int64(16), 'max_features': None, 'max_leaf_nodes': np.int64(14), 'min_impurity_decrease': 0.0, 'min_samples_leaf': 2, 'min_samples_split': 20, 'min_weight_fraction_leaf': 0.0, 'monotonic_cst': None, 'random_state': 42, 'splitter': 'best'}\n",
            "Параметри dt_best (з GridSearch): {'ccp_alpha': 0.0, 'class_weight': None, 'criterion': 'gini', 'max_depth': 5, 'max_features': None, 'max_leaf_nodes': 10, 'min_impurity_decrease': 0.0, 'min_samples_leaf': 1, 'min_samples_split': 2, 'min_weight_fraction_leaf': 0.0, 'monotonic_cst': None, 'random_state': 42, 'splitter': 'best'}\n",
            "\n",
            "Відмінності в параметрах можуть вказувати на те, як RandomizedSearchCV досліджував простір параметрів і які комбінації він вважав оптимальними в межах заданої кількості ітерацій порівняно з вичерпним пошуком GridSearchCV.\n"
          ]
        }
      ]
    },
    {
      "cell_type": "markdown",
      "source": [
        "5. Якщо у Вас вийшла метрика `AUROC` в цій серії експериментів - зробіть ще один `submission` на Kaggle і додайте код для цього і скріншот скора на публічному лідерборді нижче.\n",
        "\n",
        "  Сподіваюсь на цьому етапі ви вже відчули себе справжнім дослідником 😉"
      ],
      "metadata": {
        "id": "XArADR2CG8VK"
      }
    },
    {
      "cell_type": "code",
      "source": [
        "# Завантажуємо тестові дані\n",
        "# Припускаємо, що тестовий файл називається 'test.csv' і знаходиться в тому ж каталозі, що й train.csv\n",
        "# Якщо назва файлу інша або він знаходиться в іншому місці, будь ласка, змініть шлях\n",
        "try:\n",
        "    df_test = pd.read_csv('/content/test.csv')\n",
        "except FileNotFoundError:\n",
        "    print(\"Помилка: Файл 'test.csv' не знайдено. Переконайтеся, що файл знаходиться за вказаним шляхом.\")\n",
        "    # Можна додати код для завантаження файлу, якщо він доступний за URL, або попросити користувача завантажити його.\n",
        "    # Наприклад: !wget -O /content/test.csv [URL до test.csv]\n",
        "    # Для цього прикладу, якщо файл не знайдено, зупинимо виконання\n",
        "    raise\n",
        "\n",
        "# Зберігаємо CustomerId для файлу submission\n",
        "submission_ids = df_test['CustomerId']\n",
        "\n",
        "# Видаляємо ті ж колонки, що видаляли з тренувальних даних\n",
        "drop_cols_test = ['RowNumber', 'CustomerId', 'Surname']\n",
        "drop_cols_test = [col for col in drop_cols_test if col in df_test.columns]\n",
        "# Зберігаємо сирі тестові дані для препроцесингу\n",
        "X_test_raw = df_test.drop(columns=drop_cols_test)\n",
        "\n",
        "\n",
        "# Застосовуємо НАВЧЕНИЙ препроцесор до тестових даних\n",
        "# Тепер об'єкт 'preprocessor' повинен бути доступний з першої комірки після її модифікації та виконання\n",
        "preprocessor_available = False\n",
        "try:\n",
        "    # Перевіряємо, чи об'єкт preprocessor доступний\n",
        "    _ = preprocessor\n",
        "    X_test_processed = preprocessor.transform(X_test_raw)\n",
        "    print(\"✅ Препроцесинг тестових даних виконано за допомогою навченого препроцесора.\")\n",
        "    preprocessor_available = True\n",
        "except NameError:\n",
        "    print(\"Помилка: Об'єкт 'preprocessor' недоступний. Спроба відтворити трансформер...\")\n",
        "    # Якщо препроцесор все ще недоступний, спробуємо відтворити його, використовуючи збережені num_features та cat_features\n",
        "    try:\n",
        "        _ = num_features\n",
        "        _ = cat_features\n",
        "\n",
        "        numeric_transformer_submission = StandardScaler()\n",
        "        categorical_transformer_submission = OneHotEncoder(handle_unknown='ignore')\n",
        "\n",
        "        preprocessor_submission_recreated = ColumnTransformer(\n",
        "            transformers=[\n",
        "                ('num', numeric_transformer_submission, num_features),\n",
        "                ('cat', categorical_transformer_submission, cat_features)\n",
        "            ],\n",
        "            remainder='passthrough'\n",
        "        )\n",
        "\n",
        "        # Завантажуємо train.csv знову, щоб отримати X_train без препроцесингу для навчання відтвореного препроцесора\n",
        "        try:\n",
        "            df_train_raw = pd.read_csv('/content/train.csv')\n",
        "            drop_cols_train_raw = ['RowNumber', 'CustomerId', 'Surname', 'Exited']\n",
        "            drop_cols_train_raw = [col for col in drop_cols_train_raw if col in df_train_raw.columns]\n",
        "            X_train_raw = df_train_raw.drop(columns=drop_cols_train_raw)\n",
        "\n",
        "            preprocessor_submission_recreated.fit(X_train_raw)\n",
        "\n",
        "            X_test_processed = preprocessor_submission_recreated.transform(X_test_raw)\n",
        "            print(\"✅ Препроцесинг тестових даних виконано за допомогою відтвореного препроцесора.\")\n",
        "            preprocessor_available = True\n",
        "\n",
        "        except FileNotFoundError:\n",
        "             print(\"Помилка: Файл 'train.csv' не знайдено під час спроби відтворення препроцесора.\")\n",
        "        except NameError:\n",
        "             print(\"Помилка: Змінні num_features або cat_features недоступні для відтворення препроцесора.\")\n",
        "\n",
        "    except NameError:\n",
        "        print(\"Критична помилка: Не вдалося отримати доступ до необхідних змінних для препроцесингу.\")\n",
        "\n",
        "\n",
        "# Отримуємо передбачення ймовірностей від найкращої моделі (dt_random_search_best)\n",
        "# Використовуємо predict_proba для отримання ймовірності позитивного класу (Exited=1)\n",
        "if preprocessor_available: # Перевіряємо, чи успішно виконано препроцесинг\n",
        "    if 'dt_random_search_best' in locals():\n",
        "        test_probabilities = dt_random_search_best.predict_proba(X_test_processed)[:, 1]\n",
        "        print(\"✅ Передбачення ймовірностей для тестових даних отримано.\")\n",
        "\n",
        "        # Створюємо DataFrame для submission файлу\n",
        "        submission_df = pd.DataFrame({'CustomerId': submission_ids, 'Exited': test_probabilities})\n",
        "\n",
        "        # Зберігаємо файл submission.csv\n",
        "        submission_df.to_csv('submission.csv', index=False)\n",
        "\n",
        "        print(\"\\n🎉 Файл submission.csv успішно створено!\")\n",
        "        print(\"Тепер ви можете завантажити файл 'submission.csv' на Kaggle для оцінки.\")\n",
        "\n",
        "        # Для додавання скріншоту скора на публічному лідерборді, вам потрібно буде зробити це вручну\n",
        "        # після завантаження файлу та отримання результату на Kaggle.\n",
        "    else:\n",
        "        print(\"Помилка: Змінна 'dt_random_search_best' не знайдена. Переконайтеся, що ви успішно виконали попередні кроки.\")\n",
        "else:\n",
        "    print(\"Помилка: Препроцесинг тестових даних не був успішним. Неможливо отримати передбачення.\")"
      ],
      "metadata": {
        "id": "vadJfLlMF_V3",
        "colab": {
          "base_uri": "https://localhost:8080/"
        },
        "outputId": "a348c9fd-5b00-43f1-bec8-8a1fa31eb431"
      },
      "execution_count": 15,
      "outputs": [
        {
          "output_type": "stream",
          "name": "stdout",
          "text": [
            "✅ Препроцесинг тестових даних виконано за допомогою навченого препроцесора.\n",
            "✅ Передбачення ймовірностей для тестових даних отримано.\n",
            "\n",
            "🎉 Файл submission.csv успішно створено!\n",
            "Тепер ви можете завантажити файл 'submission.csv' на Kaggle для оцінки.\n"
          ]
        }
      ]
    }
  ]
}